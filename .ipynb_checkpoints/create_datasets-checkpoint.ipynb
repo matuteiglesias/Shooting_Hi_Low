{
 "cells": [
  {
   "cell_type": "markdown",
   "metadata": {},
   "source": [
    "### Country facts datasets"
   ]
  },
  {
   "cell_type": "code",
   "execution_count": null,
   "metadata": {
    "collapsed": false
   },
   "outputs": [],
   "source": [
    "import pandas as pd\n",
    "\n",
    "#Country facts\n",
    "c_table1 = pd.read_csv('./CountryData1.csv')\n",
    "c_table1 = c_table1.rename(columns={'Country code': 'M49'})\n",
    "c_table2 = pd.read_table('./../Country_data/CountryData2.txt', delimiter=',')\n",
    "c_table = c_table1.merge(c_table2)[['Country or area','ISO3166-1-Alpha-2','ISO3166-1-Alpha-3','M49','Major area','Region','Capital']]\n",
    "c_table['ccode'] = c_table['ISO3166-1-Alpha-3'].str.lower()\n",
    "c_table = c_table.drop('ISO3166-1-Alpha-3', 1)\n",
    "c_table = c_table[~c_table['ccode'].isnull()]\n",
    "c_table.to_csv('./c_table.csv', index = False)\n",
    "\n",
    "#Population dataset\n",
    "\n",
    "pop_df = pd.read_csv('./world_bank_pop_data.csv')\n",
    "pop_df.columns = pop_df.iloc[3]\n",
    "pop_df = pop_df.rename(columns={'Country Code': 'ccode'})\n",
    "pop_df['ccode'] = pop_df['ccode'].str.lower()\n",
    "pop_df = pop_df.loc[pop_df['ccode'].isin(c_table['ccode'])]\n",
    "pop_df = pop_df.loc[pop_df[2013] > 300000]\n",
    "pop_df = pop_df.set_index('ccode')\n",
    "del pop_df.index.name\n",
    "pop_df.to_csv('./pop_data.csv', index = False)\n"
   ]
  },
  {
   "cell_type": "markdown",
   "metadata": {},
   "source": [
    "### Import trade data (from atlas.media.mit) and products list"
   ]
  },
  {
   "cell_type": "code",
   "execution_count": null,
   "metadata": {
    "collapsed": true
   },
   "outputs": [],
   "source": [
    "import pandas as pd\n",
    "import io,urllib2,bz2\n",
    "\n",
    "# ccode_list = pd.read_csv('ccode_list')['0'].values\n",
    "\n",
    "data_ = bz2.decompress(urllib2.urlopen('https://atlas.media.mit.edu/static/db/raw/year_origin_sitc_rev2.tsv.bz2 ').read())\n",
    "data = pd.read_csv(io.BytesIO(data_),delimiter='\\t').rename(columns={'origin':'ccode','sitc':'pcode'}).fillna(0)\n",
    "\n",
    "pr_ = bz2.decompress(urllib2.urlopen('https://atlas.media.mit.edu/static/db/raw/products_sitc_rev2.tsv.bz2').read())\n",
    "pr = pd.read_csv(io.BytesIO(pr_),delimiter='\\t').rename(columns={'origin':'ccode','sitc':'pcode'}).fillna(0)\n"
   ]
  },
  {
   "cell_type": "markdown",
   "metadata": {},
   "source": [
    "### Selection of countries (as in Pinheiro et al)."
   ]
  },
  {
   "cell_type": "code",
   "execution_count": null,
   "metadata": {
    "collapsed": true
   },
   "outputs": [],
   "source": [
    "# countries with enough population\n",
    "c1 = set(pop_df.loc[pop_df.iloc[:, -2] > 1200000].index);\n",
    "\n",
    "# countries with enough trade\n",
    "df = data.loc[data.year == 2008].groupby('ccode').sum()\n",
    "c2 = set(df.loc[df.export_val > 1e9].index);\n",
    "\n",
    "# countries with enough prods\n",
    "df = data.loc[data.year == 2008][['ccode', 'pcode']].groupby('ccode').count()\n",
    "c3 = set(df.loc[df.pcode > 50].index);\n",
    "\n",
    "df = data[['year','ccode']].drop_duplicates().groupby('ccode').count()\n",
    "c4 = set(df.loc[df.year > 45].index);\n",
    "\n",
    "country_sel = set.intersection(c1, c2, c3, c4)\n",
    "\n",
    "# prods with enough trade\n",
    "df = data.groupby('pcode').sum()\n",
    "prod_sel = set(df.loc[df.export_val > 1e7].index);\n",
    "\n",
    "Boschma2018Dataset = data.loc[data.ccode.isin(country_sel)].loc[data.pcode.isin(prod_sel)]\n",
    "\n",
    "Boschma2018Dataset.to_csv('./Boschma2018Dataset',index = False)"
   ]
  },
  {
   "cell_type": "code",
   "execution_count": null,
   "metadata": {
    "collapsed": true
   },
   "outputs": [],
   "source": []
  }
 ],
 "metadata": {
  "kernelspec": {
   "display_name": "Python 2",
   "language": "python",
   "name": "python2"
  },
  "language_info": {
   "codemirror_mode": {
    "name": "ipython",
    "version": 2
   },
   "file_extension": ".py",
   "mimetype": "text/x-python",
   "name": "python",
   "nbconvert_exporter": "python",
   "pygments_lexer": "ipython2",
   "version": "2.7.13"
  }
 },
 "nbformat": 4,
 "nbformat_minor": 0
}
